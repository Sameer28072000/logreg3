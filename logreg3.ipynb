{
 "cells": [
  {
   "cell_type": "markdown",
   "id": "ca390a04-5dc4-4a81-b0ce-e4e65f38e254",
   "metadata": {},
   "source": [
    "Q1. Explain the concept of precision and recall in the context of classification models."
   ]
  },
  {
   "cell_type": "code",
   "execution_count": null,
   "id": "5106438c-eaf1-4f1a-a6d3-6e97169f717e",
   "metadata": {},
   "outputs": [],
   "source": [
    "Ans:-If Data is imbalanced then we used pression & recall.Both are performance matrix.\n",
    "\n",
    "     precession:-TP/FP+TP------> reduce FP\n",
    "     \n",
    "        recall:-TP/FN+TP------->reduce FN"
   ]
  },
  {
   "cell_type": "markdown",
   "id": "25c68f29-b055-4948-9b36-bd92b2725f84",
   "metadata": {},
   "source": [
    "Q2. What is the F1 score and how is it calculated? How is it different from precision and recall?"
   ]
  },
  {
   "cell_type": "code",
   "execution_count": null,
   "id": "720b8137-c829-411f-887c-20087a191d0c",
   "metadata": {},
   "outputs": [],
   "source": [
    "Ans:-\n",
    "       F1 Score-----> 2 * (Precision * Recall) / (Precision + Recall)\n",
    "    \n",
    "        precession:-TP/FP+TP------> reduce FP\n",
    "     \n",
    "        recall:-TP/FN+TP------->reduce FN"
   ]
  },
  {
   "cell_type": "markdown",
   "id": "359895a4-ca6b-4a79-8adc-3e46792764ad",
   "metadata": {},
   "source": [
    "Q3. What is ROC and AUC, and how are they used to evaluate the performance of classification models?"
   ]
  },
  {
   "cell_type": "code",
   "execution_count": null,
   "id": "6b541c38-a5d5-4352-a791-a9998add3d2d",
   "metadata": {},
   "outputs": [],
   "source": [
    "Ans:- \n",
    "      ROC Curve: It is a graphical representation performance classification model for different classification.\n",
    "       It plots the true positive rate (TPR) on the y-axis against the false positive rate (FPR) on the x-axis.\n",
    "        \n",
    "        AUC (Area Under the ROC Curve): AUC is a scalar value that represents the overall performance of the model.\n",
    "        \n",
    "        performance of classification models:-\n",
    "          \n",
    "            i.Model comparision\n",
    "        "
   ]
  },
  {
   "cell_type": "markdown",
   "id": "698d329a-1260-4be4-a5c9-dd63de93dcbb",
   "metadata": {},
   "source": [
    "Q4. How do you choose the best metric to evaluate the performance of a classification model?"
   ]
  },
  {
   "cell_type": "code",
   "execution_count": null,
   "id": "be737c0e-eba7-4a83-8ac3-43d2bd6ac002",
   "metadata": {},
   "outputs": [],
   "source": [
    "Ans:-To evaluate the performance of a classification model several factor\n",
    "       i.accracy------->TP+TN/FP+FN+TP+TN\n",
    "          ii.precision-------->TP/FP+TP\n",
    "             iii.recall-------->TP/FN+TP\n",
    "                iv.F1 score--------> 2 * (Precision * Recall) / (Precision + Recall)"
   ]
  },
  {
   "cell_type": "markdown",
   "id": "fe459355-37e6-40a7-9d2b-5602b66e6c1e",
   "metadata": {},
   "source": [
    "Q5. Explain how logistic regression can be used for multiclass classification."
   ]
  },
  {
   "cell_type": "code",
   "execution_count": null,
   "id": "838ab274-21a3-46ec-bacc-cc794e41abd6",
   "metadata": {},
   "outputs": [],
   "source": [
    "Ans:-logistic regression is a binary class classification & multi calss classification \n",
    "      which is used to solve the classification problem.\n",
    "      Multinomial approach is depends on specific problem & characteristics of the dataset.\n",
    "        one vs rest seperate logistic model trained."
   ]
  },
  {
   "cell_type": "markdown",
   "id": "3726d110-54e1-4f70-a8ed-e6cdb5d91645",
   "metadata": {},
   "source": [
    "Q6. Describe the steps involved in an end-to-end project for multiclass classification."
   ]
  },
  {
   "cell_type": "code",
   "execution_count": null,
   "id": "26b4ac80-fee7-4ef9-8b12-181e6da1ce95",
   "metadata": {},
   "outputs": [],
   "source": [
    "Ans:-\n",
    "     i.Problem defination\n",
    "      ii.Data collection\n",
    "        iii.data processing\n",
    "         iv.Feature selection\n",
    "            v.hyperparameter tuning\n",
    "              vi.model testing  \n",
    "                vii.model deploy"
   ]
  },
  {
   "cell_type": "markdown",
   "id": "c4f0350a-5213-4ab2-bb3f-b4f6db4bb1f6",
   "metadata": {},
   "source": [
    "Q7. What is model deployment and why is it important?"
   ]
  },
  {
   "cell_type": "code",
   "execution_count": null,
   "id": "17f8f105-77fc-41c2-b0ab-30291fa4940b",
   "metadata": {},
   "outputs": [],
   "source": [
    "Ans:-\n",
    "      i.continous learning \n",
    "       ii.efficiency\n",
    "        iii.value generation"
   ]
  },
  {
   "cell_type": "markdown",
   "id": "31727fbe-7a46-4720-9178-d328779d291e",
   "metadata": {},
   "source": [
    "Q8. Explain how multi-cloud platforms are used for model deployment."
   ]
  },
  {
   "cell_type": "code",
   "execution_count": null,
   "id": "2033c3b2-00a5-4e3e-949e-472657a9f1d0",
   "metadata": {},
   "outputs": [],
   "source": [
    "Ans:-\n",
    "     i.flexibility\n",
    "       ii.redundancy\n",
    "        \n",
    "         i will make one form & all my input feature give through this form & press the submit \n",
    "            button all my data will go to the server means backend & basically interact with pickle file  \n",
    "               whatever prediction output it will show on web app.This is the process to integrated web app.\n",
    "        \n",
    "             AWS Could select Elastic beanstack create application afetr that create a pipeline after completing will deploy."
   ]
  },
  {
   "cell_type": "markdown",
   "id": "a5fbb9c9-9573-4079-9c93-340299ed51a8",
   "metadata": {},
   "source": [
    "Q9. Discuss the benefits and challenges of deploying machine learning models in a multi-cloud\n",
    "environment."
   ]
  },
  {
   "cell_type": "code",
   "execution_count": null,
   "id": "2470e619-0b21-4cb2-943b-14d7e462b944",
   "metadata": {},
   "outputs": [],
   "source": [
    "Ans:-\n",
    "     benefits:-\n",
    "        i.flexibility\n",
    "       ii.redundancy\n",
    "        "
   ]
  }
 ],
 "metadata": {
  "kernelspec": {
   "display_name": "Python 3 (ipykernel)",
   "language": "python",
   "name": "python3"
  },
  "language_info": {
   "codemirror_mode": {
    "name": "ipython",
    "version": 3
   },
   "file_extension": ".py",
   "mimetype": "text/x-python",
   "name": "python",
   "nbconvert_exporter": "python",
   "pygments_lexer": "ipython3",
   "version": "3.10.8"
  }
 },
 "nbformat": 4,
 "nbformat_minor": 5
}
